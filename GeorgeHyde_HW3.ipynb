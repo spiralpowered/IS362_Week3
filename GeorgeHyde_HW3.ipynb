{
 "cells": [
  {
   "cell_type": "code",
   "execution_count": 3,
   "id": "68925978",
   "metadata": {},
   "outputs": [
    {
     "name": "stdout",
     "output_type": "stream",
     "text": [
      "0    1\n",
      "1    2\n",
      "2    3\n",
      "3    4\n",
      "4    5\n",
      "dtype: int64\n",
      "RangeIndex(start=0, stop=5, step=1)\n"
     ]
    }
   ],
   "source": [
    "import numpy as np\n",
    "import pandas as pd\n",
    "\n",
    "s1 = pd.Series(2)\n",
    "\n",
    "s2 = pd.Series([1, 2, 3, 4 , 5])\n",
    "print(s2)\n",
    "print(s2.index)"
   ]
  },
  {
   "cell_type": "code",
   "execution_count": 11,
   "id": "8e4fb502",
   "metadata": {},
   "outputs": [
    {
     "name": "stdout",
     "output_type": "stream",
     "text": [
      "Day 1      55\n",
      "Day 2     120\n",
      "Day 3     185\n",
      "Day 4     285\n",
      "Day 5     340\n",
      "Day 6     395\n",
      "Day 7     470\n",
      "Day 8     570\n",
      "Day 9     680\n",
      "Day 10    735\n",
      "dtype: int64\n",
      "\n",
      "\n",
      "Day 1      55\n",
      "Day 2      65\n",
      "Day 3      65\n",
      "Day 4     100\n",
      "Day 5      55\n",
      "Day 6      55\n",
      "Day 7      75\n",
      "Day 8     100\n",
      "Day 9     110\n",
      "Day 10     55\n",
      "dtype: int64\n"
     ]
    }
   ],
   "source": [
    "import numpy as np\n",
    "import pandas as pd\n",
    "\n",
    "#Panda series that contains the cumulative miles for each day.\n",
    "log = pd.Series({'Day 1': 55, 'Day 2': 120, 'Day 3': 185, 'Day 4': 285, 'Day 5': 340, 'Day 6': 395,\n",
    "                      'Day 7': 470, 'Day 8': 570, 'Day 9': 680, 'Day 10': 735})\n",
    "print(log)\n",
    "print('\\n')\n",
    "\n",
    "#Panda series that calculates and prints the total miles rode each day.\n",
    "daily_miles = pd.Series({'Day 1': log['Day 1'], 'Day 2': log['Day 2'] - log['Day 1'], 'Day 3': log['Day 3'] - log['Day 2'], 'Day 4': log['Day 4'] - log['Day 3'], 'Day 5': log['Day 5'] - log['Day 4'], \n",
    "                         'Day 6': log['Day 6'] - log['Day 5'], 'Day 7': log['Day 7'] - log['Day 6'], 'Day 8': log['Day 8'] - log['Day 7'], 'Day 9': log['Day 9'] - log['Day 8'], 'Day 10': log['Day 10'] - log['Day 9']})\n",
    "print(daily_miles)"
   ]
  },
  {
   "cell_type": "code",
   "execution_count": null,
   "id": "d0fa2a3c",
   "metadata": {},
   "outputs": [],
   "source": []
  },
  {
   "cell_type": "code",
   "execution_count": null,
   "id": "b99dbdc7",
   "metadata": {},
   "outputs": [],
   "source": []
  }
 ],
 "metadata": {
  "kernelspec": {
   "display_name": "Python 3",
   "language": "python",
   "name": "python3"
  },
  "language_info": {
   "codemirror_mode": {
    "name": "ipython",
    "version": 3
   },
   "file_extension": ".py",
   "mimetype": "text/x-python",
   "name": "python",
   "nbconvert_exporter": "python",
   "pygments_lexer": "ipython3",
   "version": "3.8.10"
  }
 },
 "nbformat": 4,
 "nbformat_minor": 5
}
